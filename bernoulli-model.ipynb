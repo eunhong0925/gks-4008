{
 "cells": [
  {
   "cell_type": "code",
   "execution_count": 2,
   "metadata": {},
   "outputs": [],
   "source": [
    "#1. import libraries\n",
    "import numpy as np\n",
    "from sklearn.datasets import fetch_openml\n",
    "from sklearn.model_selection import train_test_split\n",
    "from sklearn.metrics import accuracy_score"
   ]
  },
  {
   "cell_type": "code",
   "execution_count": 3,
   "metadata": {},
   "outputs": [],
   "source": [
    "#2. bring MNIST dataset\n",
    "mnist = fetch_openml(\"mnist_784\",parser='auto')"
   ]
  },
  {
   "cell_type": "code",
   "execution_count": 4,
   "metadata": {},
   "outputs": [],
   "source": [
    "#3. change data type pandas Dataframe to numpy arrays\n",
    "X, y = mnist.data.values, mnist.target.values"
   ]
  },
  {
   "cell_type": "code",
   "execution_count": 5,
   "metadata": {},
   "outputs": [
    {
     "data": {
      "text/plain": [
       "(70000, 784)"
      ]
     },
     "execution_count": 5,
     "metadata": {},
     "output_type": "execute_result"
    }
   ],
   "source": [
    "X.shape"
   ]
  },
  {
   "cell_type": "code",
   "execution_count": 6,
   "metadata": {},
   "outputs": [
    {
     "data": {
      "text/plain": [
       "array([[0, 0, 0, ..., 0, 0, 0],\n",
       "       [0, 0, 0, ..., 0, 0, 0],\n",
       "       [0, 0, 0, ..., 0, 0, 0],\n",
       "       ...,\n",
       "       [0, 0, 0, ..., 0, 0, 0],\n",
       "       [0, 0, 0, ..., 0, 0, 0],\n",
       "       [0, 0, 0, ..., 0, 0, 0]])"
      ]
     },
     "execution_count": 6,
     "metadata": {},
     "output_type": "execute_result"
    }
   ],
   "source": [
    "X"
   ]
  },
  {
   "cell_type": "code",
   "execution_count": 7,
   "metadata": {},
   "outputs": [
    {
     "data": {
      "text/plain": [
       "['5', '0', '4', '1', '9', ..., '2', '3', '4', '5', '6']\n",
       "Length: 70000\n",
       "Categories (10, object): ['0', '1', '2', '3', ..., '6', '7', '8', '9']"
      ]
     },
     "execution_count": 7,
     "metadata": {},
     "output_type": "execute_result"
    }
   ],
   "source": [
    "y"
   ]
  },
  {
   "cell_type": "code",
   "execution_count": 8,
   "metadata": {},
   "outputs": [
    {
     "data": {
      "text/plain": [
       "(0, 255)"
      ]
     },
     "execution_count": 8,
     "metadata": {},
     "output_type": "execute_result"
    }
   ],
   "source": [
    "### check pixel value\n",
    "unique_values = np.unique(X)\n",
    "\n",
    "min_pixel_value = np.min(unique_values)\n",
    "max_pixel_value = np.max(unique_values)\n",
    "\n",
    "min_pixel_value, max_pixel_value"
   ]
  },
  {
   "cell_type": "code",
   "execution_count": 9,
   "metadata": {},
   "outputs": [],
   "source": [
    "#4. binarize\n",
    "X_binary = (X > 128).astype(int)"
   ]
  },
  {
   "cell_type": "code",
   "execution_count": 10,
   "metadata": {},
   "outputs": [],
   "source": [
    "#5. import test, train data\n",
    "from sklearn.model_selection import train_test_split\n",
    "from sklearn.metrics import accuracy_score\n",
    "\n",
    "X_train, X_test, y_train, y_test = train_test_split(X_binary, y, test_size=0.2, random_state=127)\n"
   ]
  },
  {
   "cell_type": "code",
   "execution_count": 11,
   "metadata": {},
   "outputs": [],
   "source": [
    "#6. make a Bernoulli-Naive-Base Model Class\n",
    "class BernoulliNBWithLog:\n",
    "    def fit(self, X, y):\n",
    "        self.classes = np.unique(y)\n",
    "        ## prior probability\n",
    "        # Calculate and store the log of class priors - the likelihood of each class occurring\n",
    "        self.class_priors = np.array([np.log(np.mean(y == c)) for c in self.classes])\n",
    "        \n",
    "        ## conditional probability\n",
    "        # calculate the likelihood of a set of features (the feature vector) given a class\n",
    "        self.feature_probs = []\n",
    "        for c in self.classes:\n",
    "            feature_prob = (X[y == c].sum(axis=0)) / (np.sum(y == c))\n",
    "            # to avoid extreme value, set the scope using clip function\n",
    "            self.feature_probs.append(np.log(np.clip(feature_prob, 1e-10, 1.0 - 1e-10)))\n",
    "        self.feature_probs = np.array(self.feature_probs)\n",
    "\n",
    "    def predict(self, X):\n",
    "        ## posterior probability\n",
    "        # calculate matrix dot prodcut to relfect relation between class and features\n",
    "        log_likelihoods = np.dot(X, self.feature_probs.T)\n",
    "        log_posteriors = log_likelihoods + self.class_priors\n",
    "        predicted_class = self.classes[np.argmax(log_posteriors, axis=1)]\n",
    "            # 2D NumPy array : axis=0 > vertical axis (columns) /  axis=1 > horizontal axis (rows).\n",
    "        return predicted_class"
   ]
  },
  {
   "cell_type": "code",
   "execution_count": 12,
   "metadata": {},
   "outputs": [],
   "source": [
    "#7. Initialize and train the model\n",
    "model = BernoulliNBWithLog()\n",
    "model.fit(X_train, y_train)"
   ]
  },
  {
   "cell_type": "code",
   "execution_count": 13,
   "metadata": {},
   "outputs": [],
   "source": [
    "#8. Evaluate the model using the test data\n",
    "y_pred = model.predict(X_test)"
   ]
  },
  {
   "cell_type": "code",
   "execution_count": 14,
   "metadata": {},
   "outputs": [
    {
     "name": "stdout",
     "output_type": "stream",
     "text": [
      "Accuracy: 70.77857%\n"
     ]
    }
   ],
   "source": [
    "#9. calculate accuracy\n",
    "accuracy = accuracy_score(y_test, y_pred)\n",
    "print(\"Accuracy: {:.5f}%\".format(accuracy * 100))\n",
    "        # {:.5f} : floating-point number with three decimal places."
   ]
  },
  {
   "cell_type": "code",
   "execution_count": 15,
   "metadata": {},
   "outputs": [
    {
     "data": {
      "image/png": "[encoded data removed]",
      "text/plain": [
       "<Figure size 2000x500 with 10 Axes>"
      ]
     },
     "metadata": {},
     "output_type": "display_data"
    }
   ],
   "source": [
    "### Visualize the comparison between predicted and actual labels\n",
    "import matplotlib.pyplot as plt\n",
    "\n",
    "num_samples = 10 \n",
    "\n",
    "fig, axes = plt.subplots(1, num_samples, figsize=(20, 5))\n",
    "\n",
    "for i in range(num_samples):\n",
    "    ax = axes[i]\n",
    "    ax.imshow(X_test[i].reshape(28, 28), cmap='binary', interpolation='nearest')\n",
    "    ax.set_title(f\"Predicted: {y_pred[i]}\\nActual: {y_test[i]}\")\n",
    "    ax.axis('off')\n",
    "\n",
    "plt.show()\n"
   ]
  }
 ],
 "metadata": {
  "kernelspec": {
   "display_name": "Python 3",
   "language": "python",
   "name": "python3"
  },
  "language_info": {
   "codemirror_mode": {
    "name": "ipython",
    "version": 3
   },
   "file_extension": ".py",
   "mimetype": "text/x-python",
   "name": "python",
   "nbconvert_exporter": "python",
   "pygments_lexer": "ipython3",
   "version": "3.11.2"
  }
 },
 "nbformat": 4,
 "nbformat_minor": 2
}
