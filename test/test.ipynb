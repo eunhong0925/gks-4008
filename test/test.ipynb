{
 "cells": [
  {
   "cell_type": "code",
   "execution_count": 3,
   "metadata": {},
   "outputs": [],
   "source": [
    "import numpy as np\n",
    "from sklearn.datasets import fetch_openml\n",
    "from sklearn.model_selection import train_test_split\n",
    "from sklearn.metrics import accuracy_score\n",
    "from sklearn.decomposition import PCA  # Import PCA from sklearn\n",
    "\n",
    "# Load the MNIST dataset\n",
    "mnist = fetch_openml(\"mnist_784\", parser='auto')\n",
    "\n",
    "# Change data type from pandas DataFrame to numpy arrays\n",
    "X, y = mnist.data.values, mnist.target.values\n",
    "\n",
    "# Binarize the data (if needed)\n",
    "X_binary = (X > 127).astype(int)\n",
    "\n",
    "# Split the data into training and test sets\n",
    "X_train, X_test, y_train, y_test = train_test_split(X_binary, y, test_size=0.2, random_state=13)\n",
    "\n",
    "\n",
    "\n"
   ]
  },
  {
   "cell_type": "code",
   "execution_count": 13,
   "metadata": {},
   "outputs": [],
   "source": [
    "# Apply PCA to reduce the dimensionality of the data\n",
    "n_components = 50# Adjust the number of components as needed\n",
    "pca = PCA(n_components=n_components)\n",
    "X_train_pca = pca.fit_transform(X_train)\n",
    "X_test_pca = pca.transform(X_test)\n"
   ]
  },
  {
   "cell_type": "code",
   "execution_count": 14,
   "metadata": {},
   "outputs": [
    {
     "name": "stdout",
     "output_type": "stream",
     "text": [
      "Accuracy: 74.264%\n"
     ]
    }
   ],
   "source": [
    "\n",
    "# Create and train your Bernoulli Naive Bayes model (you can use your existing code for this)\n",
    "#6. make a Bernoulli-Naive-Base Model Class\n",
    "class BernoulliNBWithLog:\n",
    "    def fit(self, X, y):\n",
    "        self.classes = np.unique(y)\n",
    "        ## prior probability\n",
    "        # Calculate and store the log of class priors - the likelihood of each class occurring\n",
    "        self.class_priors = np.array([np.log(np.mean(y == c)) for c in self.classes])\n",
    "        \n",
    "        ## conditional probability\n",
    "        # calculate the likelihood of a set of features (the feature vector) given a class\n",
    "        self.feature_probs = []\n",
    "        for c in self.classes:\n",
    "            feature_prob = (X[y == c].sum(axis=0)) / (np.sum(y == c))\n",
    "            # to avoid extreme value, set the scope using clip function\n",
    "            self.feature_probs.append(np.log(np.clip(feature_prob, 1e-10, 1.0 - 1e-10)))\n",
    "        self.feature_probs = np.array(self.feature_probs)\n",
    "\n",
    "    def predict(self, X):\n",
    "        ## posterior probability\n",
    "        # calculate matrix dot prodcut to relfect relation between class and features\n",
    "        log_likelihoods = np.dot(X, self.feature_probs.T)\n",
    "        log_posteriors = log_likelihoods + self.class_priors\n",
    "        predicted_class = self.classes[np.argmax(log_posteriors, axis=1)]\n",
    "            # 2D NumPy array : axis=0 > vertical axis (columns) /  axis=1 > horizontal axis (rows).\n",
    "        return predicted_class\n",
    "\n",
    "# Initialize and train the model\n",
    "model = BernoulliNBWithLog()\n",
    "model.fit(X_train_pca, y_train)\n",
    "\n",
    "# Evaluate the model using the test data\n",
    "y_pred = model.predict(X_test_pca)\n",
    "\n",
    "# Calculate accuracy\n",
    "accuracy = accuracy_score(y_test, y_pred)\n",
    "print(\"Accuracy: {:.3f}%\".format(accuracy * 100))"
   ]
  }
 ],
 "metadata": {
  "kernelspec": {
   "display_name": "Python 3",
   "language": "python",
   "name": "python3"
  },
  "language_info": {
   "codemirror_mode": {
    "name": "ipython",
    "version": 3
   },
   "file_extension": ".py",
   "mimetype": "text/x-python",
   "name": "python",
   "nbconvert_exporter": "python",
   "pygments_lexer": "ipython3",
   "version": "3.11.2"
  }
 },
 "nbformat": 4,
 "nbformat_minor": 2
}
