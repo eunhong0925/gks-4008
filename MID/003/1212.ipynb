{
 "cells": [
  {
   "cell_type": "code",
   "execution_count": 2,
   "metadata": {},
   "outputs": [],
   "source": [
    "import numpy as np\n",
    "import matplotlib.pyplot as plt\n",
    "import seaborn as sns\n",
    "from sklearn.datasets import fetch_20newsgroups\n",
    "from sklearn.metrics import confusion_matrix"
   ]
  },
  {
   "cell_type": "code",
   "execution_count": 3,
   "metadata": {},
   "outputs": [],
   "source": [
    "data = fetch_20newsgroups()\n",
    "categories = data.target_names\n",
    "train = fetch_20newsgroups(subset='train', categories=categories)\n",
    "test = fetch_20newsgroups(subset='test', categories=categories)"
   ]
  },
  {
   "cell_type": "code",
   "execution_count": 8,
   "metadata": {},
   "outputs": [],
   "source": [
    "# Create a set of all unique words in the training data\n",
    "vocab_set = set()\n",
    "for dstr in train.data:\n",
    "    words = dstr.lower().split()\n",
    "    vocab_set.update(words)\n",
    "\n",
    "# Convert the set of unique words to a list\n",
    "new_vocab= list(vocab_set)"
   ]
  },
  {
   "cell_type": "code",
   "execution_count": 9,
   "metadata": {},
   "outputs": [],
   "source": [
    "# FOR TRAIN\n",
    "new_data_category = {category: [] for category in categories}\n",
    "new_vocabcount_category = {category: {v: 0 for v in new_vocab} for category in categories}\n",
    "\n",
    "for i in range(len(train.data)):\n",
    "    category = train.target_names[train.target[i]]\n",
    "    if category in categories:\n",
    "        new_data_category[category].append(train.data[i])\n",
    "\n",
    "for category, data in new_data_category.items():\n",
    "    total_words = 0\n",
    "    for dstr in data:\n",
    "        words = dstr.lower().split()\n",
    "        for w in words:\n",
    "            if w in new_vocab:\n",
    "                total_words += 1\n",
    "                new_vocabcount_category[category][w] += 1\n",
    "\n",
    "    for k in new_vocabcount_category[category]:\n",
    "        new_vocabcount_category[category][k] += 1\n",
    "\n",
    "    total = sum(new_vocabcount_category[category].values())\n",
    "    for k in new_vocabcount_category[category]:\n",
    "        new_vocabcount_category[category][k] /= total\n",
    "\n",
    "new_vocab_logp_category = {category: {key: np.log(value) for key, value in vocabcount.items()} \n",
    "                           for category, vocabcount in new_vocabcount_category.items()}"
   ]
  },
  {
   "cell_type": "code",
   "execution_count": null,
   "metadata": {},
   "outputs": [],
   "source": [
    "# FOR TEST\n",
    "new_predicted_count = 0\n",
    "new_predicted_labels = []\n",
    "\n",
    "for i in range(len(test.data)):\n",
    "    tsample = test.data[i]\n",
    "    new_logp_category = {category: sum(new_vocab_logp_category[category].get(w, 0) \n",
    "                                       for w in tsample.lower().split() if w in new_vocab) \n",
    "                         for category in categories}\n",
    "\n",
    "    new_predicted_label = max(new_logp_category, key=new_logp_category.get)\n",
    "    new_predicted_labels.append(new_predicted_label)\n",
    "\n",
    "    true_label = test.target_names[test.target[i]]\n",
    "    if new_predicted_label == true_label:\n",
    "        new_predicted_count += 1\n",
    "\n",
    "new_test_accuracy = new_predicted_count / len(test.data)\n",
    "print(\"New Test Accuracy(%):\", new_test_accuracy * 100)\n"
   ]
  },
  {
   "cell_type": "code",
   "execution_count": null,
   "metadata": {},
   "outputs": [],
   "source": []
  }
 ],
 "metadata": {
  "kernelspec": {
   "display_name": "Python 3",
   "language": "python",
   "name": "python3"
  },
  "language_info": {
   "codemirror_mode": {
    "name": "ipython",
    "version": 3
   },
   "file_extension": ".py",
   "mimetype": "text/x-python",
   "name": "python",
   "nbconvert_exporter": "python",
   "pygments_lexer": "ipython3",
   "version": "3.11.2"
  }
 },
 "nbformat": 4,
 "nbformat_minor": 2
}
