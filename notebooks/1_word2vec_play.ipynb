{
  "cells": [
    {
      "cell_type": "code",
      "execution_count": null,
      "metadata": {
        "id": "JA0OMsVp7iWw"
      },
      "outputs": [],
      "source": [
        "import gensim\n",
        "import numpy as np\n",
        "import pprint as pp\n"
      ]
    },
    {
      "cell_type": "code",
      "execution_count": null,
      "metadata": {
        "id": "6YhX4SKH7iWz"
      },
      "outputs": [],
      "source": [
        "import gensim.downloader\n",
        "list(gensim.downloader.info()['models'].keys())\n"
      ]
    },
    {
      "cell_type": "code",
      "execution_count": null,
      "metadata": {
        "id": "9U9g8R5i7iWz"
      },
      "outputs": [],
      "source": [
        "your_model_code = '' # select among the model code aboves\n",
        "model = gensim.downloader.load(your_model_code) # download and load the model. It can take some time\n"
      ]
    },
    {
      "cell_type": "code",
      "execution_count": null,
      "metadata": {
        "id": "d29SAyKK7iW0"
      },
      "outputs": [],
      "source": [
        "your_word = ''\n",
        "model[your_word]"
      ]
    },
    {
      "cell_type": "code",
      "execution_count": null,
      "metadata": {
        "id": "6nYLwo2W7iW0"
      },
      "outputs": [],
      "source": [
        "model.most_similar(your_word)"
      ]
    }
  ],
  "metadata": {
    "kernelspec": {
      "display_name": "Python 3",
      "language": "python",
      "name": "python3"
    },
    "language_info": {
      "name": "python",
      "version": "3.8.10"
    },
    "colab": {
      "provenance": []
    }
  },
  "nbformat": 4,
  "nbformat_minor": 0
}